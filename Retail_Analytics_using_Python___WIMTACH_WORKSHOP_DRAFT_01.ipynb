{
 "cells": [
  {
   "cell_type": "markdown",
   "metadata": {
    "id": "cctXjgb_06Ja"
   },
   "source": [
    "<p style=\"font-family: Arial; font-size:2.5em;color:green;\"> WIMTACH WORKSHOP </p>\n",
    "<p style=\"font-family: Arial; font-size:2.5em;color:orange;\"> Retail Analytics Using Python </p>"
   ]
  },
  {
   "cell_type": "markdown",
   "metadata": {
    "id": "oDyNV7kP06Jb"
   },
   "source": [
    "## Data: Superstore Data "
   ]
  },
  {
   "cell_type": "markdown",
   "metadata": {
    "id": "xbHWFrRe06Jc"
   },
   "source": [
    "##### Import Libraries"
   ]
  },
  {
   "cell_type": "code",
   "execution_count": null,
   "metadata": {
    "colab": {
     "base_uri": "https://localhost:8080/"
    },
    "id": "j9hrRe0r1yMp",
    "outputId": "fe7b3b38-42ca-4b1a-eb85-7564f78b7a3d"
   },
   "outputs": [],
   "source": [
    "!pip install squarify"
   ]
  },
  {
   "cell_type": "code",
   "execution_count": null,
   "metadata": {
    "id": "honbYTXB06Jc"
   },
   "outputs": [],
   "source": [
    "# Import Libarires\n",
    "import pandas as pd\n",
    "import numpy as np\n",
    "import datetime as dt\n",
    "import matplotlib.pyplot as plt\n",
    "import seaborn as sns\n",
    "import squarify\n"
   ]
  },
  {
   "cell_type": "markdown",
   "metadata": {
    "id": "TD6boUQi06Je"
   },
   "source": [
    "###### Import Data"
   ]
  },
  {
   "cell_type": "code",
   "execution_count": null,
   "metadata": {
    "colab": {
     "base_uri": "https://localhost:8080/",
     "height": 1000
    },
    "id": "ay_HiLKj06Je",
    "outputId": "b424d43a-2104-4456-813a-7b6282150d09"
   },
   "outputs": [],
   "source": [
    "data= pd.read_excel('superstore.xls')\n",
    "data.head()"
   ]
  },
  {
   "cell_type": "markdown",
   "metadata": {
    "id": "93d2An9n06Jf"
   },
   "source": [
    "##### Shape of the Data"
   ]
  },
  {
   "cell_type": "code",
   "execution_count": null,
   "metadata": {
    "colab": {
     "base_uri": "https://localhost:8080/"
    },
    "id": "HVBFFY4p06Jg",
    "outputId": "42aed01a-fa7b-4aa2-e537-0c2de95672cc"
   },
   "outputs": [],
   "source": [
    "# Da\n",
    "print(\"Number of attrtibutes or variables\",data.shape[1])\n",
    "print(\"Number of customers\",data.shape[0])"
   ]
  },
  {
   "cell_type": "code",
   "execution_count": null,
   "metadata": {
    "id": "N-hEekpn06Jh"
   },
   "outputs": [],
   "source": []
  },
  {
   "cell_type": "markdown",
   "metadata": {
    "id": "rT-5BMlV06Ji"
   },
   "source": [
    "## List of Variables"
   ]
  },
  {
   "cell_type": "code",
   "execution_count": null,
   "metadata": {
    "colab": {
     "base_uri": "https://localhost:8080/"
    },
    "id": "0dAcB86j-Pev",
    "outputId": "892e61fb-e2a1-45f9-a8b3-6b9587b75997"
   },
   "outputs": [],
   "source": [
    "data.columns"
   ]
  },
  {
   "cell_type": "markdown",
   "metadata": {
    "id": "qtBymWJ606Jj"
   },
   "source": [
    "### Descriptive  Statistics"
   ]
  },
  {
   "cell_type": "code",
   "execution_count": null,
   "metadata": {
    "colab": {
     "base_uri": "https://localhost:8080/",
     "height": 300
    },
    "id": "laV86JZ1-YQ8",
    "outputId": "22cb3d96-0dab-4c8e-e2c9-7a8e849de5c8"
   },
   "outputs": [],
   "source": [
    "data.describe()"
   ]
  },
  {
   "cell_type": "markdown",
   "metadata": {
    "id": "_fupVX5P06Jk"
   },
   "source": [
    "### Data Types"
   ]
  },
  {
   "cell_type": "code",
   "execution_count": null,
   "metadata": {
    "colab": {
     "base_uri": "https://localhost:8080/"
    },
    "id": "7EGd0l4_06Jk",
    "outputId": "c9e6c95b-cec1-4d23-b05e-bfca837a216f"
   },
   "outputs": [],
   "source": [
    "data.info()"
   ]
  },
  {
   "cell_type": "markdown",
   "metadata": {
    "id": "YzNqCevy06Jk"
   },
   "source": [
    "###  Missing Values In Percentage"
   ]
  },
  {
   "cell_type": "code",
   "execution_count": null,
   "metadata": {
    "colab": {
     "base_uri": "https://localhost:8080/",
     "height": 708
    },
    "id": "YB5zfWcE06Jk",
    "outputId": "96f57b2f-3730-440b-d99b-5c06344be9a3"
   },
   "outputs": [],
   "source": [
    "m=pd.DataFrame(((data.isnull().sum())/len(data))*100).reset_index()\n",
    "m.columns=['Attributes','Percentage of Missing']\n",
    "m"
   ]
  },
  {
   "cell_type": "code",
   "execution_count": null,
   "metadata": {
    "id": "W3DhoNm206Jl"
   },
   "outputs": [],
   "source": []
  },
  {
   "cell_type": "markdown",
   "metadata": {
    "id": "IIQWbf1m06Jl"
   },
   "source": [
    "## Exttracting Month and Year from Ship Date"
   ]
  },
  {
   "cell_type": "code",
   "execution_count": null,
   "metadata": {
    "id": "qQw4AaWg06Jl"
   },
   "outputs": [],
   "source": [
    "data['Month']= pd.DatetimeIndex(data['Ship Date']).month\n",
    "data['Year']= pd.DatetimeIndex(data['Ship Date']).year"
   ]
  },
  {
   "cell_type": "code",
   "execution_count": null,
   "metadata": {
    "colab": {
     "base_uri": "https://localhost:8080/"
    },
    "id": "himHexP306Jm",
    "outputId": "88e0ffc6-7462-4361-e9b4-0add57284037"
   },
   "outputs": [],
   "source": [
    "data.columns"
   ]
  },
  {
   "cell_type": "code",
   "execution_count": null,
   "metadata": {
    "colab": {
     "base_uri": "https://localhost:8080/"
    },
    "id": "xa_c4T6ACbrr",
    "outputId": "a80fcd70-f960-42e2-fc89-915e641d33e0"
   },
   "outputs": [],
   "source": [
    " data['Order Date'].dt.day_name()"
   ]
  },
  {
   "cell_type": "code",
   "execution_count": null,
   "metadata": {
    "id": "9GyvwWoF06Jm"
   },
   "outputs": [],
   "source": []
  },
  {
   "cell_type": "markdown",
   "metadata": {
    "id": "_Prgktmy06Jm"
   },
   "source": [
    "### Exploring  Sales"
   ]
  },
  {
   "cell_type": "markdown",
   "metadata": {
    "id": "1Yha5BJb06Jm"
   },
   "source": [
    "#### Checking outliers"
   ]
  },
  {
   "cell_type": "code",
   "execution_count": null,
   "metadata": {
    "colab": {
     "base_uri": "https://localhost:8080/",
     "height": 294
    },
    "id": "RqRrCyK806Jn",
    "outputId": "f123a38a-c93f-4f05-c390-ad172ca5be4d"
   },
   "outputs": [],
   "source": [
    "dt_sales= data[['Ship Date','Sales']].set_index('Ship Date')\n",
    "dt_sales.plot()"
   ]
  },
  {
   "cell_type": "markdown",
   "metadata": {
    "id": "N7UZISw206Jn"
   },
   "source": [
    "### Removing Outliers"
   ]
  },
  {
   "cell_type": "code",
   "execution_count": null,
   "metadata": {
    "colab": {
     "base_uri": "https://localhost:8080/"
    },
    "id": "wKbDP8Su06Jn",
    "outputId": "3dcd31e3-5db2-40cb-b91b-4149f5088038"
   },
   "outputs": [],
   "source": [
    "# outliers = data[data['SalesAmount'] > (data['SalesAmount'].mean() + (3 * data['SalesAmount'].std()))] \n",
    "# outliers2 = data[data['SalesAmount'] < (data['SalesAmount'].mean() - (3 * data['SalesAmount'].std()))]\n",
    "\n",
    "#removing outliers from data:\n",
    "print(data['Sales'].mean(), data['Sales'].std(), data['Sales'].mean() - 3 * data['Sales'].std(), data['Sales'].mean() + 3 * data['Sales'].std())\n",
    "data = data[data['Sales'] < (data['Sales'].mean() + (3 * data['Sales'].std()))] \n",
    "data = data[data['Sales'] > (data['Sales'].mean() - (3 * data['Sales'].std()))]"
   ]
  },
  {
   "cell_type": "code",
   "execution_count": null,
   "metadata": {
    "colab": {
     "base_uri": "https://localhost:8080/",
     "height": 294
    },
    "id": "PFdF-vDf06Jo",
    "outputId": "bc6f6299-5f06-4d85-822b-913051e33ba1"
   },
   "outputs": [],
   "source": [
    "dt_sales2= data[['Ship Date','Sales']].set_index('Ship Date')\n",
    "\n",
    "dt_sales2.plot()"
   ]
  },
  {
   "cell_type": "code",
   "execution_count": null,
   "metadata": {
    "id": "Dos2YMlS06Jo"
   },
   "outputs": [],
   "source": []
  },
  {
   "cell_type": "raw",
   "metadata": {
    "id": "DrS8fbJh06Jo"
   },
   "source": []
  },
  {
   "cell_type": "markdown",
   "metadata": {
    "id": "NFNz_sa-06Jo"
   },
   "source": [
    "### Year and Month  Wise Sales"
   ]
  },
  {
   "cell_type": "code",
   "execution_count": null,
   "metadata": {
    "colab": {
     "base_uri": "https://localhost:8080/"
    },
    "id": "fFOpy3Ii06Jo",
    "outputId": "3596731f-5d20-48c5-f030-57c60d6da441"
   },
   "outputs": [],
   "source": [
    "data.groupby(data.Year).sum()['Sales']"
   ]
  },
  {
   "cell_type": "code",
   "execution_count": null,
   "metadata": {
    "colab": {
     "base_uri": "https://localhost:8080/",
     "height": 282
    },
    "id": "ZNnhGknb06Jp",
    "outputId": "bd6e9531-c806-48a0-ca36-8cadc2ce0055"
   },
   "outputs": [],
   "source": [
    "data.groupby(data.Year).sum()['Sales'].plot(kind='barh')"
   ]
  },
  {
   "cell_type": "code",
   "execution_count": null,
   "metadata": {
    "colab": {
     "base_uri": "https://localhost:8080/"
    },
    "id": "e3pvuowh06Jp",
    "outputId": "134dc9b7-e222-4438-c683-f6835721202d"
   },
   "outputs": [],
   "source": [
    "data.groupby(data.Month).sum()['Sales']"
   ]
  },
  {
   "cell_type": "code",
   "execution_count": null,
   "metadata": {
    "colab": {
     "base_uri": "https://localhost:8080/",
     "height": 299
    },
    "id": "sPEehhp_06Jp",
    "outputId": "d7467afa-51a1-4725-83df-3d4efdc0d869"
   },
   "outputs": [],
   "source": [
    "data.groupby(data.Month).sum()['Sales'].plot(kind='bar')"
   ]
  },
  {
   "cell_type": "code",
   "execution_count": null,
   "metadata": {
    "id": "FSGcIx4N06Jp"
   },
   "outputs": [],
   "source": []
  },
  {
   "cell_type": "markdown",
   "metadata": {
    "id": "UvqyvRAN06Jp"
   },
   "source": [
    "### Product Category wise Sales in Percentage"
   ]
  },
  {
   "cell_type": "code",
   "execution_count": null,
   "metadata": {
    "colab": {
     "base_uri": "https://localhost:8080/"
    },
    "id": "3cRPABM206Jq",
    "outputId": "460ac914-6508-4acd-ad12-60f815347509"
   },
   "outputs": [],
   "source": [
    "data.columns"
   ]
  },
  {
   "cell_type": "code",
   "execution_count": null,
   "metadata": {
    "colab": {
     "base_uri": "https://localhost:8080/",
     "height": 411
    },
    "id": "iiNdQ5C306Jq",
    "outputId": "08c818f8-a83b-4c21-a898-2855868f1344"
   },
   "outputs": [],
   "source": [
    "dk = data.groupby(['Category']).agg({'Sales':np.sum}).reset_index()\n",
    "fig1 = plt.figure(figsize =(10, 7)) \n",
    "plt.pie(dk.Sales, labels = dk.Category,autopct='%1.2f%%')\n",
    "# show plot \n",
    "plt.show() \n",
    "\n"
   ]
  },
  {
   "cell_type": "code",
   "execution_count": null,
   "metadata": {
    "colab": {
     "base_uri": "https://localhost:8080/",
     "height": 334
    },
    "id": "-g4NLm5W06Jq",
    "outputId": "0a950699-3e3b-4ea8-c821-c30f9c949586"
   },
   "outputs": [],
   "source": [
    "# Category\n",
    "di=dk.sort_values('Sales')\n",
    "fig2 = plt.figure(figsize = (10, 5)) \n",
    "plt.bar(di.Category, di.Sales, color ='maroon', width = 0.4)\n",
    "plt.xlabel(\"Categories\") \n",
    "plt.ylabel(\"Total Sales\")  \n",
    "# show plot \n",
    "plt.show()"
   ]
  },
  {
   "cell_type": "markdown",
   "metadata": {
    "id": "18aOb5Gz06Jq"
   },
   "source": [
    "### Week Day Wise Sales "
   ]
  },
  {
   "cell_type": "code",
   "execution_count": null,
   "metadata": {
    "colab": {
     "base_uri": "https://localhost:8080/",
     "height": 334
    },
    "id": "lH8MJmeD06Jr",
    "outputId": "09895eb9-42a4-4779-9a34-1d2fad7a66b9"
   },
   "outputs": [],
   "source": [
    "dj = data.groupby(['Order Date', 'Order ID']).size()\n",
    "new_df = dj.to_frame(name = 'size').reset_index()\n",
    "new_df['NumberofOrders']=1\n",
    "new_df['day_of_week'] = new_df['Order Date'].dt.day_name()\n",
    "\n",
    "dataSales = new_df.groupby('day_of_week')['NumberofOrders'].agg('sum').reset_index()\n",
    "dataSales = dataSales.loc[[1,5,6,4,0,2,3], :]\n",
    "\n",
    "# #plotting bar chart\n",
    "fig = plt.figure(figsize = (15, 5)) \n",
    "plt.bar(dataSales.day_of_week, dataSales.NumberofOrders, color ='maroon', width = 0.6)\n",
    "plt.xlabel(\"Day of week\") \n",
    "plt.ylabel(\"Total orders\") \n",
    "plt.show()"
   ]
  },
  {
   "cell_type": "code",
   "execution_count": null,
   "metadata": {
    "colab": {
     "base_uri": "https://localhost:8080/",
     "height": 423
    },
    "id": "avSRGkEzCF2X",
    "outputId": "f525278c-16db-4566-f795-4463a0e854fa"
   },
   "outputs": [],
   "source": [
    "new_df"
   ]
  },
  {
   "cell_type": "code",
   "execution_count": null,
   "metadata": {
    "colab": {
     "base_uri": "https://localhost:8080/",
     "height": 269
    },
    "id": "O49OwwY8DRD7",
    "outputId": "b80d5b3c-1407-4697-feeb-266cc5dd5ee9"
   },
   "outputs": [],
   "source": [
    "dataSales"
   ]
  },
  {
   "cell_type": "markdown",
   "metadata": {
    "id": "zUVS9m7U06Jr"
   },
   "source": [
    "## Count of Sales per Year"
   ]
  },
  {
   "cell_type": "code",
   "execution_count": null,
   "metadata": {
    "colab": {
     "base_uri": "https://localhost:8080/"
    },
    "id": "_gPnV8pJ06Jr",
    "outputId": "843bf14a-9f46-4b36-ad08-94b76b845016"
   },
   "outputs": [],
   "source": [
    "data.groupby('Year')['Order ID'].count()"
   ]
  },
  {
   "cell_type": "code",
   "execution_count": null,
   "metadata": {
    "colab": {
     "base_uri": "https://localhost:8080/",
     "height": 282
    },
    "id": "ZjdsLtim06Jr",
    "outputId": "3796ae1c-71ca-4850-d76a-7a7298c0b914"
   },
   "outputs": [],
   "source": [
    "data.groupby('Year')['Order ID'].count().plot(kind= 'barh')"
   ]
  },
  {
   "cell_type": "code",
   "execution_count": null,
   "metadata": {
    "id": "V7ExWZ2g06Js"
   },
   "outputs": [],
   "source": []
  },
  {
   "cell_type": "markdown",
   "metadata": {
    "id": "CzTOrSDt06Js"
   },
   "source": [
    "# Region wise analysis"
   ]
  },
  {
   "cell_type": "code",
   "execution_count": null,
   "metadata": {
    "colab": {
     "base_uri": "https://localhost:8080/"
    },
    "id": "D-lom7pg06Js",
    "outputId": "87f6d3d9-63d5-499e-995b-27acbc8175ff"
   },
   "outputs": [],
   "source": [
    "data['Region'].unique()"
   ]
  },
  {
   "cell_type": "code",
   "execution_count": null,
   "metadata": {
    "colab": {
     "base_uri": "https://localhost:8080/",
     "height": 323
    },
    "id": "RTioMDvC06Js",
    "outputId": "3ae64149-ff04-4882-84c7-416809780df2"
   },
   "outputs": [],
   "source": [
    "data.groupby('Region')['Sales'].sum().plot(kind='bar')"
   ]
  },
  {
   "cell_type": "markdown",
   "metadata": {
    "id": "JVe_OP9H06Js"
   },
   "source": [
    "## Group by using Year and Category"
   ]
  },
  {
   "cell_type": "code",
   "execution_count": null,
   "metadata": {
    "colab": {
     "base_uri": "https://localhost:8080/",
     "height": 520
    },
    "id": "ikT2BYYr06Js",
    "outputId": "77de7373-a2be-4fc8-96a2-b8f9146b0f19"
   },
   "outputs": [],
   "source": [
    "data.groupby(['Year','Category'])['Sales'].sum().reset_index()"
   ]
  },
  {
   "cell_type": "markdown",
   "metadata": {
    "id": "Up29-lyS06Jt"
   },
   "source": [
    "## Pivot Table for Sales across Year and Category"
   ]
  },
  {
   "cell_type": "code",
   "execution_count": null,
   "metadata": {
    "colab": {
     "base_uri": "https://localhost:8080/",
     "height": 206
    },
    "id": "S3zoODrd06Jt",
    "outputId": "585f0a14-a4b7-4b57-8c1e-2108b4b903d2"
   },
   "outputs": [],
   "source": [
    "pd.pivot_table(data, values='Sales',index='Year',columns=['Category'],aggfunc= np.sum).reset_index()"
   ]
  },
  {
   "cell_type": "code",
   "execution_count": null,
   "metadata": {
    "id": "FdZvukNB06Jt"
   },
   "outputs": [],
   "source": [
    "table= pd.pivot_table(data, values='Sales',index='Year',columns=['Category'],aggfunc= np.sum).reset_index()"
   ]
  },
  {
   "cell_type": "code",
   "execution_count": null,
   "metadata": {
    "colab": {
     "base_uri": "https://localhost:8080/",
     "height": 312
    },
    "id": "bCLzwTZS06Jt",
    "outputId": "589019b6-5504-410b-c62e-c9585973f507"
   },
   "outputs": [],
   "source": [
    "table.plot.bar(x='Year',y=['Furniture', 'Office Supplies','Technology'],stacked=True)"
   ]
  },
  {
   "cell_type": "code",
   "execution_count": null,
   "metadata": {
    "colab": {
     "base_uri": "https://localhost:8080/",
     "height": 312
    },
    "id": "HcA5Cfml06Jt",
    "outputId": "47e31ee3-902c-4a26-9127-1d8a7365a10d"
   },
   "outputs": [],
   "source": [
    "table.plot.bar(x='Year',y=['Furniture', 'Office Supplies','Technology'])"
   ]
  },
  {
   "cell_type": "code",
   "execution_count": null,
   "metadata": {
    "colab": {
     "base_uri": "https://localhost:8080/",
     "height": 295
    },
    "id": "Ikld233l06Jt",
    "outputId": "be3ab423-66b0-4f33-a455-7420dc183b94"
   },
   "outputs": [],
   "source": [
    "table.plot.bar(x='Year',y=['Furniture', 'Office Supplies','Technology'])\n",
    "plt.xticks(rotation=0)\n",
    "plt.xlabel('Year of the Businesss')\n",
    "plt.ylabel(\"Sum of the sales amount\")\n",
    "plt.title(\" The Sales Details\")\n",
    "          \n",
    "plt.show()"
   ]
  },
  {
   "cell_type": "markdown",
   "metadata": {
    "id": "DKRW2uT306Ju"
   },
   "source": [
    "# Month wise analysis"
   ]
  },
  {
   "cell_type": "code",
   "execution_count": null,
   "metadata": {
    "colab": {
     "base_uri": "https://localhost:8080/",
     "height": 1000
    },
    "id": "d7tdyU2J06Ju",
    "outputId": "acd1032f-0687-405f-9ccd-2aeb152ee0d5"
   },
   "outputs": [],
   "source": [
    "data.groupby(['Month','Category'])['Sales'].sum().reset_index()"
   ]
  },
  {
   "cell_type": "code",
   "execution_count": null,
   "metadata": {
    "colab": {
     "base_uri": "https://localhost:8080/",
     "height": 354
    },
    "id": "j-Ge7yOY06Ju",
    "outputId": "ade8fe84-2611-4a64-b494-406ce98def32"
   },
   "outputs": [],
   "source": [
    "data.groupby('Month')['Sales','Profit'].sum().plot(kind='bar')"
   ]
  },
  {
   "cell_type": "markdown",
   "metadata": {
    "id": "qs3T6LBg06Ju"
   },
   "source": [
    "## Month and Region Wise Exploration"
   ]
  },
  {
   "cell_type": "code",
   "execution_count": null,
   "metadata": {
    "colab": {
     "base_uri": "https://localhost:8080/",
     "height": 708
    },
    "id": "1d-cpUGk06Ju",
    "outputId": "6943a289-59ac-408a-c312-556036e89d2d"
   },
   "outputs": [],
   "source": [
    "data.groupby([pd.Grouper(key='Ship Date', freq='M'), 'Region'])\\\n",
    "    .agg(unique_items=('Product ID', 'nunique'),\n",
    "         total_Sales=('Sales','sum'),\n",
    "         total_Profit=('Profit','sum')).head(20)"
   ]
  },
  {
   "cell_type": "code",
   "execution_count": null,
   "metadata": {
    "id": "pwe9ePdU06Jv"
   },
   "outputs": [],
   "source": []
  },
  {
   "cell_type": "code",
   "execution_count": null,
   "metadata": {
    "colab": {
     "base_uri": "https://localhost:8080/"
    },
    "id": "1VFkX_Ui06Jv",
    "outputId": "9132cc53-5fc0-4e6e-ee9b-047f7571e196"
   },
   "outputs": [],
   "source": [
    "data.resample('M',on='Ship Date').Sales.sum().head(10)"
   ]
  },
  {
   "cell_type": "code",
   "execution_count": null,
   "metadata": {
    "id": "PUC-CzTy06Jv"
   },
   "outputs": [],
   "source": []
  },
  {
   "cell_type": "code",
   "execution_count": null,
   "metadata": {
    "id": "2Wh7GLlr06Jv"
   },
   "outputs": [],
   "source": [
    "data_M= data.resample('M',on='Order Date').Sales.sum()"
   ]
  },
  {
   "cell_type": "code",
   "execution_count": null,
   "metadata": {
    "colab": {
     "base_uri": "https://localhost:8080/",
     "height": 206
    },
    "id": "DEyyvAed06Jv",
    "outputId": "0b5b0df9-7d83-414e-8713-97ba30733490"
   },
   "outputs": [],
   "source": [
    "data_M= pd.DataFrame(data_M).reset_index()\n",
    "data_M.head()"
   ]
  },
  {
   "cell_type": "code",
   "execution_count": null,
   "metadata": {
    "id": "D2dgPdct06Jv"
   },
   "outputs": [],
   "source": []
  },
  {
   "cell_type": "markdown",
   "metadata": {
    "id": "YsLgBED-06Jw"
   },
   "source": [
    "## Filtering"
   ]
  },
  {
   "cell_type": "code",
   "execution_count": null,
   "metadata": {
    "colab": {
     "base_uri": "https://localhost:8080/",
     "height": 1000
    },
    "id": "IoLc4Vjx06Jw",
    "outputId": "98a435e1-d85a-455e-d42a-3c312af8cff1"
   },
   "outputs": [],
   "source": [
    "dl= data.set_index('Order Date')\n",
    "dl.loc['2016':'2017']"
   ]
  },
  {
   "cell_type": "code",
   "execution_count": null,
   "metadata": {
    "colab": {
     "base_uri": "https://localhost:8080/",
     "height": 423
    },
    "id": "P9dNGqaC06Jw",
    "outputId": "b08b1838-b364-44cb-c19e-f5c600c05574"
   },
   "outputs": [],
   "source": [
    "data.loc[data['Region']== 'South',['Region','Sales'] ]"
   ]
  },
  {
   "cell_type": "markdown",
   "metadata": {
    "id": "skldMoNS06Jw"
   },
   "source": [
    "###  Interactive Graph  with Slide Bar using Plotly"
   ]
  },
  {
   "cell_type": "code",
   "execution_count": null,
   "metadata": {
    "colab": {
     "base_uri": "https://localhost:8080/",
     "height": 542
    },
    "id": "K__Qg4QE06Jw",
    "outputId": "e95617ca-e242-4a79-ae3b-b057253516a3"
   },
   "outputs": [],
   "source": [
    "import plotly.express as px\n",
    "fig = px.line(data_M, x = 'Order Date',y='Sales',title = 'Monthly Sales')\n",
    "\n",
    "fig.update_xaxes(rangeslider_visible=True)\n",
    "fig.show()   "
   ]
  },
  {
   "cell_type": "markdown",
   "metadata": {
    "id": "pDDshhWB06Jw"
   },
   "source": [
    "# RFM Analysis"
   ]
  },
  {
   "cell_type": "markdown",
   "metadata": {
    "id": "T_HMTocL06Jx"
   },
   "source": [
    "#### RFM stands for Recency, Frequency, and Monetary value, each corresponding to some key customer trait. These RFM metrics are important indicators of a customer’s behavior because frequency and monetary value affects a customer’s lifetime value, and recency affects retention, a measure of engagement."
   ]
  },
  {
   "cell_type": "markdown",
   "metadata": {
    "id": "Gs9AFlt706Jx"
   },
   "source": [
    "\n",
    "#### Recency: The number of days between present date (i.e. Today) and date of last purchase of each customer. First define today's date and then get the `.max()` function of `InvoiceDate` to calculate the number of days between today and date of last purchase.\n",
    "\n",
    "####  Frequency: How often has a customer transacted or interacted with the brand during a particular period of time? Clearly, customers with frequent activities are more engaged, and probably more loyal, than customers who rarely do so. And one-time-only customers are in a class of their own.\n",
    "\n",
    "####  Monetary: Also referred to as “monetary value,” this factor reflects how much a customer has spent with the brand during a particular period of time. Big spenders should usually be treated differently than customers who spend little. Looking at monetary divided by frequency indicates the average purchase amount – an important secondary factor to consider when segmenting customers."
   ]
  },
  {
   "cell_type": "code",
   "execution_count": null,
   "metadata": {
    "id": "9vA23Q7u06Jx"
   },
   "outputs": [],
   "source": []
  },
  {
   "cell_type": "markdown",
   "metadata": {
    "id": "A_pxrjOL06Jx"
   },
   "source": [
    "###  RFM factors illustrate these facts:\n",
    "##### the more recent the purchase, the more responsive the customer is to promotions\n",
    "##### the more frequently the customer buys, the more engaged and satisfied they are\n",
    "##### monetary value differentiates heavy spenders from low-value purchasers   "
   ]
  },
  {
   "cell_type": "code",
   "execution_count": null,
   "metadata": {
    "id": "OY_fC3qj06Jy"
   },
   "outputs": [],
   "source": []
  },
  {
   "cell_type": "markdown",
   "metadata": {
    "id": "s-YuZrWQ06Jy"
   },
   "source": [
    "### The maximum and minimum date "
   ]
  },
  {
   "cell_type": "code",
   "execution_count": null,
   "metadata": {
    "colab": {
     "base_uri": "https://localhost:8080/"
    },
    "id": "GJ15_Y8L06Jy",
    "outputId": "ad7edb40-6ccc-4416-a180-200bec458e6d"
   },
   "outputs": [],
   "source": [
    "data['Order Date'].max(), data['Order Date'].min()"
   ]
  },
  {
   "cell_type": "code",
   "execution_count": null,
   "metadata": {
    "id": "QgoU8sJb06Jy"
   },
   "outputs": [],
   "source": [
    "\n",
    "TODAY = dt.datetime(2017,12,31)"
   ]
  },
  {
   "cell_type": "code",
   "execution_count": null,
   "metadata": {
    "id": "6Z6lnOOo06Jz"
   },
   "outputs": [],
   "source": [
    "rfm = data.groupby(\"Customer ID\").agg({\"Order Date\": lambda date: (TODAY - date.max()).days,\n",
    "                                        \"Order ID\": lambda num: num.nunique(),\n",
    "                                        \"Sales\": lambda price: price.sum()})"
   ]
  },
  {
   "cell_type": "code",
   "execution_count": null,
   "metadata": {
    "id": "YfXWY_hO06Jz"
   },
   "outputs": [],
   "source": [
    "# Change the name of columns\n",
    "rfm.columns=[\"recency\", \"frequency\", \"monetary\"]"
   ]
  },
  {
   "cell_type": "code",
   "execution_count": null,
   "metadata": {
    "colab": {
     "base_uri": "https://localhost:8080/",
     "height": 455
    },
    "id": "iVObPxK906Jz",
    "outputId": "432f31d5-e491-4e45-9f4b-42acd828f518"
   },
   "outputs": [],
   "source": [
    "rfm"
   ]
  },
  {
   "cell_type": "code",
   "execution_count": null,
   "metadata": {
    "colab": {
     "base_uri": "https://localhost:8080/"
    },
    "id": "7Qg2q8jG06Jz",
    "outputId": "55e73972-57fe-4cf1-ccd9-0a72a894f6e4"
   },
   "outputs": [],
   "source": [
    "print(\"Recency: {} to {}\".format(rfm.recency.min(), rfm.recency.max()))\n",
    "print(\"Frequency: {} to {}\".format(rfm.frequency.min(), rfm.frequency.max()))\n",
    "print(\"Monetary: {} to {}\".format(rfm.monetary.min(), rfm.monetary.max()))"
   ]
  },
  {
   "cell_type": "markdown",
   "metadata": {
    "id": "p84JuGRi06Jz"
   },
   "source": [
    "# Customer Life Time Value"
   ]
  },
  {
   "cell_type": "markdown",
   "metadata": {
    "id": "EY3oUZ8Q06J0"
   },
   "source": [
    "####  Customer Lifetime Value is a monetary value that represents the amount of revenue or profit a customer will give the company over the period of the relationship\" (Source). CLTV demonstrates the implications of acquiring long-term customers compare to short-term customers. Customer lifetime value (CLV) can help you to answers the most important questions about sales to every company: "
   ]
  },
  {
   "cell_type": "markdown",
   "metadata": {
    "id": "EQuy4axa06J0"
   },
   "source": [
    "\n",
    "    How to Identify the most profitable customers?\n",
    "    How can a company offer the best product and make the most money?\n",
    "    How to segment profitable customers?\n",
    "    How much budget need to spend to acquire customers?\n"
   ]
  },
  {
   "cell_type": "markdown",
   "metadata": {
    "id": "YcsXZYMY06J0"
   },
   "source": [
    "# Aggregate Model"
   ]
  },
  {
   "cell_type": "markdown",
   "metadata": {
    "id": "xcgyB-ze06J0"
   },
   "source": [
    "The most simplest and the oldest method of computing CLV is this Aggregate/Average method. This assumes a constant average spend and churn rate for all the customers.\n",
    "\n",
    "This method does not differentiate between customers and produces a single value for CLV at an overall Level. This leads to unrealistic estimates if some of the customers transacted in high value and high volume, which ultimately skews the average CLV value.\n",
    "\n",
    "The General Formula for calculating CLV is:\n"
   ]
  },
  {
   "cell_type": "markdown",
   "metadata": {
    "id": "4Y5uYT-E06J1"
   },
   "source": [
    "### CLV = ((Average Sales X Purchase Frequency) / Churn) X Profit Margin  "
   ]
  },
  {
   "cell_type": "markdown",
   "metadata": {
    "id": "fro_mzey06J1"
   },
   "source": [
    "**Where,**  \n",
    "  **Average Sales = TotalSales/Total no. of orders**\n",
    "   \n",
    "   **Purchase Frequency = Total no. of orders/Total unique customers**\n",
    "   \n",
    "   **Retention rate = Total no. of orders greater than 1/ Total unique customers**\n",
    "   \n",
    "   **Churn = 1 - Retention rate**\n",
    "   \n",
    "   **Profit Margin = Based on business context**"
   ]
  },
  {
   "cell_type": "markdown",
   "metadata": {
    "id": "OvNY8hvm06J1"
   },
   "source": [
    "In this example case,  the Profit margin for each transaction is assumed to be 5%."
   ]
  },
  {
   "cell_type": "markdown",
   "metadata": {
    "id": "iwn5hylD06J1"
   },
   "source": [
    "### Slicing Data for CLV Analaysis"
   ]
  },
  {
   "cell_type": "code",
   "execution_count": null,
   "metadata": {
    "colab": {
     "base_uri": "https://localhost:8080/",
     "height": 112
    },
    "id": "nPLjAJva06J2",
    "outputId": "4b5146fe-905f-4c93-d63c-4b1261f10afa"
   },
   "outputs": [],
   "source": [
    "data_clv= data[['Customer ID','Order ID', 'Order Date', 'Sales']]\n",
    "data_clv.head(2)"
   ]
  },
  {
   "cell_type": "code",
   "execution_count": null,
   "metadata": {
    "colab": {
     "base_uri": "https://localhost:8080/",
     "height": 238
    },
    "id": "dS-XJ33z06J2",
    "outputId": "1b5e1c75-0a48-459c-ae32-557c2af24b84"
   },
   "outputs": [],
   "source": [
    "\n",
    "customer = data_clv.groupby('Customer ID').agg({'Order Date':lambda x: (x.max() - x.min()).days, \n",
    "                                                   'Order ID': lambda x: len(x),\n",
    "                                                  'Sales': lambda x: sum(x)})\n",
    "\n",
    "customer.columns = ['Days', 'Frequency', 'TotalSales']\n",
    "customer.head()"
   ]
  },
  {
   "cell_type": "code",
   "execution_count": null,
   "metadata": {
    "colab": {
     "base_uri": "https://localhost:8080/"
    },
    "id": "gWT8-wWi5LGM",
    "outputId": "03d0e503-3179-439f-e448-232b9433e56f"
   },
   "outputs": [],
   "source": [
    "customer.shape"
   ]
  },
  {
   "cell_type": "code",
   "execution_count": null,
   "metadata": {
    "colab": {
     "base_uri": "https://localhost:8080/"
    },
    "id": "qvPurqxo06J2",
    "outputId": "62b5bc9b-fd7c-4cf4-ae6c-7ea82b62bd6a"
   },
   "outputs": [],
   "source": [
    "data_clv['Order Date'].max()"
   ]
  },
  {
   "cell_type": "code",
   "execution_count": null,
   "metadata": {
    "colab": {
     "base_uri": "https://localhost:8080/"
    },
    "id": "9w8J3hly06J2",
    "outputId": "118b42a9-dcc5-4cdf-99c0-f44991c7a251"
   },
   "outputs": [],
   "source": [
    "data_clv['Order Date'].min()"
   ]
  },
  {
   "cell_type": "code",
   "execution_count": null,
   "metadata": {
    "id": "ZivPfaM206J2"
   },
   "outputs": [],
   "source": []
  },
  {
   "cell_type": "code",
   "execution_count": null,
   "metadata": {
    "colab": {
     "base_uri": "https://localhost:8080/"
    },
    "id": "Ln2CMEGM06J3",
    "outputId": "020703f4-cd4b-4eed-d35e-b95c5053127c"
   },
   "outputs": [],
   "source": [
    "# Calculating the necessary variables for CLV calculation\n",
    "Average_sales = round(np.mean(customer['TotalSales']),2)\n",
    "print(f\"Average sales: ${Average_sales}\")\n",
    "\n",
    "Purchase_freq = round(np.mean(customer['Frequency']), 2)\n",
    "print(f\"Purchase Frequency: {Purchase_freq}\")\n",
    "\n",
    "Retention_rate = customer[customer['Frequency']>1].shape[0]/customer.shape[0]\n",
    "churn = round(1 - Retention_rate, 2)\n",
    "print(f\"Churn: {churn}%\")"
   ]
  },
  {
   "cell_type": "code",
   "execution_count": null,
   "metadata": {
    "colab": {
     "base_uri": "https://localhost:8080/"
    },
    "id": "Bi6Tt2jp06J3",
    "outputId": "18ec1e6c-25ed-4709-e22d-9450b4d58ed5"
   },
   "outputs": [],
   "source": [
    "customer['TotalSales'].mean()"
   ]
  },
  {
   "cell_type": "code",
   "execution_count": null,
   "metadata": {
    "colab": {
     "base_uri": "https://localhost:8080/"
    },
    "id": "s8HjlXuV06J3",
    "outputId": "2614d545-6581-47be-c70b-387c0dc9d186"
   },
   "outputs": [],
   "source": [
    "# Calculating the CLV\n",
    "Profit_margin = 0.05 \n",
    "\n",
    "CLV = round(((Average_sales * Purchase_freq/churn)) * Profit_margin, 2)\n",
    "print(f\"The Customer Lifetime Value (CLV) for each customer is: ${CLV}\")"
   ]
  },
  {
   "cell_type": "code",
   "execution_count": null,
   "metadata": {
    "id": "NTomEXRp06J3"
   },
   "outputs": [],
   "source": []
  },
  {
   "cell_type": "markdown",
   "metadata": {
    "id": "CMO3B2uf06J3"
   },
   "source": [
    "#   Conversion Rate"
   ]
  },
  {
   "cell_type": "code",
   "execution_count": null,
   "metadata": {
    "colab": {
     "base_uri": "https://localhost:8080/"
    },
    "id": "J9giOekq06J3",
    "outputId": "0c29314e-b79d-42c6-f09d-3fadf8cbcad2"
   },
   "outputs": [],
   "source": [
    "data.groupby('Year')['Order ID'].count()"
   ]
  },
  {
   "cell_type": "code",
   "execution_count": null,
   "metadata": {
    "colab": {
     "base_uri": "https://localhost:8080/",
     "height": 206
    },
    "id": "IlYt_mux06J4",
    "outputId": "b921d834-69d0-43b0-fbcc-f55eae102755"
   },
   "outputs": [],
   "source": [
    "dt= pd.DataFrame(data.groupby('Year')['Order ID'].count()).reset_index()\n",
    "dt.columns=['Year', 'No. of Transactions']\n",
    "dt"
   ]
  },
  {
   "cell_type": "code",
   "execution_count": null,
   "metadata": {
    "id": "WXHLVuJ106J4"
   },
   "outputs": [],
   "source": [
    "dt['Footfall']= [10000,15000,20000,25000,30000]"
   ]
  },
  {
   "cell_type": "code",
   "execution_count": null,
   "metadata": {
    "colab": {
     "base_uri": "https://localhost:8080/",
     "height": 206
    },
    "id": "u1fHLxpN06J4",
    "outputId": "c020a4d7-b821-47bb-fd59-5eef96025afc"
   },
   "outputs": [],
   "source": [
    "dt"
   ]
  },
  {
   "cell_type": "code",
   "execution_count": null,
   "metadata": {
    "colab": {
     "base_uri": "https://localhost:8080/",
     "height": 206
    },
    "id": "jpG4IP7Q06J4",
    "outputId": "6d4c8be2-0324-42ce-9df8-0292cd3afc48"
   },
   "outputs": [],
   "source": [
    "dt['Conversion Rate']= dt['No. of Transactions']/dt['Footfall']\n",
    "dt"
   ]
  },
  {
   "cell_type": "code",
   "execution_count": null,
   "metadata": {
    "id": "eHM_pcur06J4"
   },
   "outputs": [],
   "source": []
  },
  {
   "cell_type": "markdown",
   "metadata": {
    "id": "bh4KTEFN06J5"
   },
   "source": [
    "# Market Basket Analysis"
   ]
  },
  {
   "cell_type": "markdown",
   "metadata": {
    "id": "CtUhq-Ov06J5"
   },
   "source": [
    "# Frequency of Most Popular Item "
   ]
  },
  {
   "cell_type": "code",
   "execution_count": null,
   "metadata": {
    "colab": {
     "base_uri": "https://localhost:8080/",
     "height": 755
    },
    "id": "9f3TU68p06J5",
    "outputId": "7b353074-017e-4938-c00e-0dca72c9e00a"
   },
   "outputs": [],
   "source": [
    "# looking at the frequency of most popular items \n",
    "\n",
    "plt.rcParams['figure.figsize'] = (18, 7)\n",
    "color = plt.cm.copper(np.linspace(0, 1, 40))\n",
    "data['Product Name'].value_counts().head(40).plot.bar(color = color)\n",
    "plt.title('frequency of most popular items', fontsize = 20)\n",
    "plt.xticks(rotation = 90 )\n",
    "plt.grid()\n",
    "plt.show()"
   ]
  },
  {
   "cell_type": "code",
   "execution_count": null,
   "metadata": {
    "id": "ARMhpT3A06J5"
   },
   "outputs": [],
   "source": []
  },
  {
   "cell_type": "code",
   "execution_count": null,
   "metadata": {
    "id": "l0xspI0j06J5"
   },
   "outputs": [],
   "source": [
    "y = data['Product Name'].value_counts().head(50).to_frame()\n"
   ]
  },
  {
   "cell_type": "code",
   "execution_count": null,
   "metadata": {
    "colab": {
     "base_uri": "https://localhost:8080/",
     "height": 1000
    },
    "id": "0CvSyIlr06J6",
    "outputId": "f6ea6e8d-13d4-4c43-d55c-9a31815dec33"
   },
   "outputs": [],
   "source": [
    "# plotting \n",
    "\n",
    "plt.rcParams['figure.figsize'] = (20, 20)\n",
    "color = plt.cm.cool(np.linspace(0, 1, 50))\n",
    "squarify.plot(sizes = y.values, label = y.index, alpha=.8, color = color)\n",
    "plt.title('Tree Map for Popular Items')\n",
    "plt.axis('off')\n",
    "plt.show()"
   ]
  },
  {
   "cell_type": "code",
   "execution_count": null,
   "metadata": {
    "colab": {
     "base_uri": "https://localhost:8080/",
     "height": 867
    },
    "id": "D3hvh0gh06J6",
    "outputId": "01c3ff12-b136-41d1-d998-6af7b6056e15"
   },
   "outputs": [],
   "source": [
    "\n",
    "\n",
    "from wordcloud import WordCloud\n",
    "\n",
    "plt.rcParams['figure.figsize'] = (15, 15)\n",
    "wordcloud = WordCloud(background_color = 'white', width = 1200,  height = 1200, max_words = 121).generate(str(data['Product Name']))\n",
    "plt.imshow(wordcloud)\n",
    "plt.axis('off')\n",
    "plt.title('Most Popular Items',fontsize = 20)\n",
    "plt.show()"
   ]
  },
  {
   "cell_type": "code",
   "execution_count": null,
   "metadata": {
    "id": "gEsat5hn06J6"
   },
   "outputs": [],
   "source": []
  },
  {
   "cell_type": "code",
   "execution_count": null,
   "metadata": {
    "colab": {
     "base_uri": "https://localhost:8080/"
    },
    "id": "yxEca_-B06J6",
    "outputId": "58b37029-bf05-46b7-cbb0-5c7117f692a6"
   },
   "outputs": [],
   "source": [
    "!pip install mlxtend"
   ]
  },
  {
   "cell_type": "code",
   "execution_count": null,
   "metadata": {
    "id": "Rqh7-dQI7XTl"
   },
   "outputs": [],
   "source": [
    "from mlxtend.frequent_patterns import apriori\n",
    "from mlxtend.frequent_patterns import association_rules"
   ]
  },
  {
   "cell_type": "code",
   "execution_count": null,
   "metadata": {
    "id": "YncQm1KV7zV_"
   },
   "outputs": [],
   "source": []
  },
  {
   "cell_type": "code",
   "execution_count": null,
   "metadata": {
    "colab": {
     "base_uri": "https://localhost:8080/"
    },
    "id": "5oyVeH4c06J6",
    "outputId": "0034d8fa-8dff-458a-9f37-eabf9727ba18"
   },
   "outputs": [],
   "source": [
    "data['Product Name'].value_counts().head(10)"
   ]
  },
  {
   "cell_type": "code",
   "execution_count": null,
   "metadata": {
    "colab": {
     "base_uri": "https://localhost:8080/",
     "height": 548
    },
    "id": "W0xLlhDO06J6",
    "outputId": "714fe8f4-4d6c-4a26-b5d1-52ad38687be3"
   },
   "outputs": [],
   "source": [
    "df=data.groupby(\"Product Name\").filter(lambda x: len(x) > 14)\n",
    "df.head()"
   ]
  },
  {
   "cell_type": "code",
   "execution_count": null,
   "metadata": {
    "colab": {
     "base_uri": "https://localhost:8080/"
    },
    "id": "bWr6ulI706J7",
    "outputId": "01b8551c-b688-48d5-bb90-575f431d7132"
   },
   "outputs": [],
   "source": [
    "df['Product Name'].value_counts()"
   ]
  },
  {
   "cell_type": "code",
   "execution_count": null,
   "metadata": {
    "colab": {
     "base_uri": "https://localhost:8080/",
     "height": 725
    },
    "id": "dw92Ja_a06J7",
    "outputId": "7393d162-e913-4f28-9080-8ca9551bbc43"
   },
   "outputs": [],
   "source": [
    "dt= df.groupby(['Order ID','Product Name'])['Quantity'].sum().unstack().reset_index().fillna(0).set_index('Order ID')\n",
    "dt"
   ]
  },
  {
   "cell_type": "code",
   "execution_count": null,
   "metadata": {
    "id": "VyWzcTa506J7"
   },
   "outputs": [],
   "source": [
    "def one_hot_encode(x):\n",
    "    if x <= 0:\n",
    "        return 0\n",
    "    if x >= 1:\n",
    "        return 1\n",
    "\n",
    "dt_encode= dt.applymap(one_hot_encode)"
   ]
  },
  {
   "cell_type": "code",
   "execution_count": null,
   "metadata": {
    "id": "AsHynuho06J7"
   },
   "outputs": [],
   "source": [
    "dt_efilter= dt_encode[(dt_encode >0).sum(axis=1)>=2]"
   ]
  },
  {
   "cell_type": "code",
   "execution_count": null,
   "metadata": {
    "colab": {
     "base_uri": "https://localhost:8080/",
     "height": 615
    },
    "id": "81lBjKrq06J7",
    "outputId": "667819be-7af9-45df-f5d1-5d7d6fb8adf3"
   },
   "outputs": [],
   "source": [
    "dt_efilter"
   ]
  },
  {
   "cell_type": "code",
   "execution_count": null,
   "metadata": {
    "id": "NXGW67al06J8"
   },
   "outputs": [],
   "source": []
  },
  {
   "cell_type": "code",
   "execution_count": null,
   "metadata": {
    "id": "7uPUOkxA06J8"
   },
   "outputs": [],
   "source": [
    "frequent_itemsets_plus= apriori(dt_efilter, min_support= 0.05,use_colnames= True).sort_values('support', ascending= False).reset_index(drop=True)"
   ]
  },
  {
   "cell_type": "code",
   "execution_count": null,
   "metadata": {
    "colab": {
     "base_uri": "https://localhost:8080/",
     "height": 459
    },
    "id": "8BSKsufs06J8",
    "outputId": "eacf8062-a583-45af-c07c-4d8ac9c2be3d"
   },
   "outputs": [],
   "source": [
    "rules = association_rules(frequent_itemsets_plus, metric=\"lift\", min_threshold=2)\n",
    "rules"
   ]
  },
  {
   "cell_type": "code",
   "execution_count": null,
   "metadata": {
    "id": "OCUhVebm06J8"
   },
   "outputs": [],
   "source": []
  }
 ],
 "metadata": {
  "colab": {
   "name": "Retail_Analytics_using_Python___WIMTACH_WORKSHOP_DRAFT_01.ipynb",
   "provenance": []
  },
  "kernelspec": {
   "display_name": "Python 3",
   "language": "python",
   "name": "python3"
  },
  "language_info": {
   "codemirror_mode": {
    "name": "ipython",
    "version": 3
   },
   "file_extension": ".py",
   "mimetype": "text/x-python",
   "name": "python",
   "nbconvert_exporter": "python",
   "pygments_lexer": "ipython3",
   "version": "3.7.6"
  }
 },
 "nbformat": 4,
 "nbformat_minor": 1
}
